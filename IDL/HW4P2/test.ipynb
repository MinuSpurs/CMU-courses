{
 "cells": [
  {
   "cell_type": "code",
   "execution_count": 1,
   "metadata": {},
   "outputs": [
    {
     "name": "stdout",
     "output_type": "stream",
     "text": [
      "Files successfully compressed into /Users/minwoo/Desktop/CMU/Intro_to_Deep_Learning/HW4P2/HW4P2_minwoooh.tar\n"
     ]
    }
   ],
   "source": [
    "import tarfile\n",
    "\n",
    "# 파일 경로 설정\n",
    "file_paths = [\n",
    "    \"/Users/minwoo/Desktop/CMU/Intro_to_Deep_Learning/HW4P2/HW4P2_Starter_F24.ipynb\",\n",
    "    \"/Users/minwoo/Desktop/CMU/Intro_to_Deep_Learning/HW4P2/README.pdf\"\n",
    "]\n",
    "output_tar_path = \"/Users/minwoo/Desktop/CMU/Intro_to_Deep_Learning/HW4P2/HW4P2_minwoooh.tar\"\n",
    "\n",
    "# tar 파일 생성 및 파일 추가\n",
    "with tarfile.open(output_tar_path, \"w\") as tar:\n",
    "    for file_path in file_paths:\n",
    "        tar.add(file_path, arcname=file_path.split(\"/\")[-1])  # 파일명을 유지한 채로 추가\n",
    "\n",
    "print(f\"Files successfully compressed into {output_tar_path}\")"
   ]
  }
 ],
 "metadata": {
  "kernelspec": {
   "display_name": "minwoo",
   "language": "python",
   "name": "python3"
  },
  "language_info": {
   "codemirror_mode": {
    "name": "ipython",
    "version": 3
   },
   "file_extension": ".py",
   "mimetype": "text/x-python",
   "name": "python",
   "nbconvert_exporter": "python",
   "pygments_lexer": "ipython3",
   "version": "3.11.8"
  }
 },
 "nbformat": 4,
 "nbformat_minor": 2
}
