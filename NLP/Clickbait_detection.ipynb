{
  "cells": [
    {
      "cell_type": "markdown",
      "metadata": {
        "id": "TJIAQTsAzkZ0"
      },
      "source": [
        "# Overview\n",
        "This notebook contains the starter code for the 11-411/11-611 Clickbait Detection homework. It has minimal text so you can easily copy it to **handin.py** when you submit.  Please read all the comments in the code as there is important information in them."
      ]
    },
    {
      "cell_type": "code",
      "execution_count": null,
      "metadata": {},
      "outputs": [],
      "source": [
        "!pip install torch\n",
        "!pip install numpy"
      ]
    },
    {
      "cell_type": "code",
      "execution_count": 1,
      "metadata": {
        "id": "UjihAVr90bDo"
      },
      "outputs": [
        {
          "name": "stdout",
          "output_type": "stream",
          "text": [
            "Collecting transformers\n",
            "  Downloading transformers-4.46.1-py3-none-any.whl.metadata (44 kB)\n",
            "Requirement already satisfied: filelock in /opt/anaconda3/envs/idl/lib/python3.11/site-packages (from transformers) (3.15.4)\n",
            "Collecting huggingface-hub<1.0,>=0.23.2 (from transformers)\n",
            "  Downloading huggingface_hub-0.26.2-py3-none-any.whl.metadata (13 kB)\n",
            "Requirement already satisfied: numpy>=1.17 in /opt/anaconda3/envs/idl/lib/python3.11/site-packages (from transformers) (2.1.1)\n",
            "Requirement already satisfied: packaging>=20.0 in /opt/anaconda3/envs/idl/lib/python3.11/site-packages (from transformers) (24.1)\n",
            "Requirement already satisfied: pyyaml>=5.1 in /opt/anaconda3/envs/idl/lib/python3.11/site-packages (from transformers) (6.0.2)\n",
            "Collecting regex!=2019.12.17 (from transformers)\n",
            "  Downloading regex-2024.9.11-cp311-cp311-macosx_11_0_arm64.whl.metadata (40 kB)\n",
            "Requirement already satisfied: requests in /opt/anaconda3/envs/idl/lib/python3.11/site-packages (from transformers) (2.32.3)\n",
            "Collecting safetensors>=0.4.1 (from transformers)\n",
            "  Downloading safetensors-0.4.5-cp311-cp311-macosx_11_0_arm64.whl.metadata (3.8 kB)\n",
            "Collecting tokenizers<0.21,>=0.20 (from transformers)\n",
            "  Downloading tokenizers-0.20.2-cp311-cp311-macosx_11_0_arm64.whl.metadata (6.7 kB)\n",
            "Requirement already satisfied: tqdm>=4.27 in /opt/anaconda3/envs/idl/lib/python3.11/site-packages (from transformers) (4.66.5)\n",
            "Requirement already satisfied: fsspec>=2023.5.0 in /opt/anaconda3/envs/idl/lib/python3.11/site-packages (from huggingface-hub<1.0,>=0.23.2->transformers) (2024.6.1)\n",
            "Requirement already satisfied: typing-extensions>=3.7.4.3 in /opt/anaconda3/envs/idl/lib/python3.11/site-packages (from huggingface-hub<1.0,>=0.23.2->transformers) (4.12.2)\n",
            "Requirement already satisfied: charset-normalizer<4,>=2 in /opt/anaconda3/envs/idl/lib/python3.11/site-packages (from requests->transformers) (3.3.2)\n",
            "Requirement already satisfied: idna<4,>=2.5 in /opt/anaconda3/envs/idl/lib/python3.11/site-packages (from requests->transformers) (3.8)\n",
            "Requirement already satisfied: urllib3<3,>=1.21.1 in /opt/anaconda3/envs/idl/lib/python3.11/site-packages (from requests->transformers) (2.2.2)\n",
            "Requirement already satisfied: certifi>=2017.4.17 in /opt/anaconda3/envs/idl/lib/python3.11/site-packages (from requests->transformers) (2024.8.30)\n",
            "Downloading transformers-4.46.1-py3-none-any.whl (10.0 MB)\n",
            "\u001b[2K   \u001b[90m━━━━━━━━━━━━━━━━━━━━━━━━━━━━━━━━━━━━━━━━\u001b[0m \u001b[32m10.0/10.0 MB\u001b[0m \u001b[31m7.9 MB/s\u001b[0m eta \u001b[36m0:00:00\u001b[0m \u001b[36m0:00:01\u001b[0m\n",
            "\u001b[?25hDownloading huggingface_hub-0.26.2-py3-none-any.whl (447 kB)\n",
            "Downloading regex-2024.9.11-cp311-cp311-macosx_11_0_arm64.whl (284 kB)\n",
            "Downloading safetensors-0.4.5-cp311-cp311-macosx_11_0_arm64.whl (381 kB)\n",
            "Downloading tokenizers-0.20.2-cp311-cp311-macosx_11_0_arm64.whl (2.6 MB)\n",
            "\u001b[2K   \u001b[90m━━━━━━━━━━━━━━━━━━━━━━━━━━━━━━━━━━━━━━━━\u001b[0m \u001b[32m2.6/2.6 MB\u001b[0m \u001b[31m9.7 MB/s\u001b[0m eta \u001b[36m0:00:00\u001b[0ma \u001b[36m0:00:01\u001b[0m\n",
            "\u001b[?25hInstalling collected packages: safetensors, regex, huggingface-hub, tokenizers, transformers\n",
            "Successfully installed huggingface-hub-0.26.2 regex-2024.9.11 safetensors-0.4.5 tokenizers-0.20.2 transformers-4.46.1\n",
            "Collecting datasets\n",
            "  Downloading datasets-3.1.0-py3-none-any.whl.metadata (20 kB)\n",
            "Requirement already satisfied: filelock in /opt/anaconda3/envs/idl/lib/python3.11/site-packages (from datasets) (3.15.4)\n",
            "Requirement already satisfied: numpy>=1.17 in /opt/anaconda3/envs/idl/lib/python3.11/site-packages (from datasets) (2.1.1)\n",
            "Collecting pyarrow>=15.0.0 (from datasets)\n",
            "  Downloading pyarrow-18.0.0-cp311-cp311-macosx_12_0_arm64.whl.metadata (3.3 kB)\n",
            "Collecting dill<0.3.9,>=0.3.0 (from datasets)\n",
            "  Downloading dill-0.3.8-py3-none-any.whl.metadata (10 kB)\n",
            "Requirement already satisfied: pandas in /opt/anaconda3/envs/idl/lib/python3.11/site-packages (from datasets) (2.2.2)\n",
            "Requirement already satisfied: requests>=2.32.2 in /opt/anaconda3/envs/idl/lib/python3.11/site-packages (from datasets) (2.32.3)\n",
            "Requirement already satisfied: tqdm>=4.66.3 in /opt/anaconda3/envs/idl/lib/python3.11/site-packages (from datasets) (4.66.5)\n",
            "Collecting xxhash (from datasets)\n",
            "  Downloading xxhash-3.5.0-cp311-cp311-macosx_11_0_arm64.whl.metadata (12 kB)\n",
            "Collecting multiprocess<0.70.17 (from datasets)\n",
            "  Downloading multiprocess-0.70.16-py311-none-any.whl.metadata (7.2 kB)\n",
            "Requirement already satisfied: fsspec<=2024.9.0,>=2023.1.0 in /opt/anaconda3/envs/idl/lib/python3.11/site-packages (from fsspec[http]<=2024.9.0,>=2023.1.0->datasets) (2024.6.1)\n",
            "Collecting aiohttp (from datasets)\n",
            "  Downloading aiohttp-3.10.10-cp311-cp311-macosx_11_0_arm64.whl.metadata (7.6 kB)\n",
            "Requirement already satisfied: huggingface-hub>=0.23.0 in /opt/anaconda3/envs/idl/lib/python3.11/site-packages (from datasets) (0.26.2)\n",
            "Requirement already satisfied: packaging in /opt/anaconda3/envs/idl/lib/python3.11/site-packages (from datasets) (24.1)\n",
            "Requirement already satisfied: pyyaml>=5.1 in /opt/anaconda3/envs/idl/lib/python3.11/site-packages (from datasets) (6.0.2)\n",
            "Collecting aiohappyeyeballs>=2.3.0 (from aiohttp->datasets)\n",
            "  Downloading aiohappyeyeballs-2.4.3-py3-none-any.whl.metadata (6.1 kB)\n",
            "Collecting aiosignal>=1.1.2 (from aiohttp->datasets)\n",
            "  Downloading aiosignal-1.3.1-py3-none-any.whl.metadata (4.0 kB)\n",
            "Collecting attrs>=17.3.0 (from aiohttp->datasets)\n",
            "  Downloading attrs-24.2.0-py3-none-any.whl.metadata (11 kB)\n",
            "Collecting frozenlist>=1.1.1 (from aiohttp->datasets)\n",
            "  Downloading frozenlist-1.5.0-cp311-cp311-macosx_11_0_arm64.whl.metadata (13 kB)\n",
            "Collecting multidict<7.0,>=4.5 (from aiohttp->datasets)\n",
            "  Downloading multidict-6.1.0-cp311-cp311-macosx_11_0_arm64.whl.metadata (5.0 kB)\n",
            "Collecting yarl<2.0,>=1.12.0 (from aiohttp->datasets)\n",
            "  Downloading yarl-1.17.1-cp311-cp311-macosx_11_0_arm64.whl.metadata (64 kB)\n",
            "Requirement already satisfied: typing-extensions>=3.7.4.3 in /opt/anaconda3/envs/idl/lib/python3.11/site-packages (from huggingface-hub>=0.23.0->datasets) (4.12.2)\n",
            "Requirement already satisfied: charset-normalizer<4,>=2 in /opt/anaconda3/envs/idl/lib/python3.11/site-packages (from requests>=2.32.2->datasets) (3.3.2)\n",
            "Requirement already satisfied: idna<4,>=2.5 in /opt/anaconda3/envs/idl/lib/python3.11/site-packages (from requests>=2.32.2->datasets) (3.8)\n",
            "Requirement already satisfied: urllib3<3,>=1.21.1 in /opt/anaconda3/envs/idl/lib/python3.11/site-packages (from requests>=2.32.2->datasets) (2.2.2)\n",
            "Requirement already satisfied: certifi>=2017.4.17 in /opt/anaconda3/envs/idl/lib/python3.11/site-packages (from requests>=2.32.2->datasets) (2024.8.30)\n",
            "Requirement already satisfied: python-dateutil>=2.8.2 in /opt/anaconda3/envs/idl/lib/python3.11/site-packages (from pandas->datasets) (2.9.0)\n",
            "Requirement already satisfied: pytz>=2020.1 in /opt/anaconda3/envs/idl/lib/python3.11/site-packages (from pandas->datasets) (2024.1)\n",
            "Requirement already satisfied: tzdata>=2022.7 in /opt/anaconda3/envs/idl/lib/python3.11/site-packages (from pandas->datasets) (2024.1)\n",
            "Requirement already satisfied: six>=1.5 in /opt/anaconda3/envs/idl/lib/python3.11/site-packages (from python-dateutil>=2.8.2->pandas->datasets) (1.16.0)\n",
            "Collecting propcache>=0.2.0 (from yarl<2.0,>=1.12.0->aiohttp->datasets)\n",
            "  Downloading propcache-0.2.0-cp311-cp311-macosx_11_0_arm64.whl.metadata (7.7 kB)\n",
            "Downloading datasets-3.1.0-py3-none-any.whl (480 kB)\n",
            "Downloading dill-0.3.8-py3-none-any.whl (116 kB)\n",
            "Downloading aiohttp-3.10.10-cp311-cp311-macosx_11_0_arm64.whl (390 kB)\n",
            "Downloading multiprocess-0.70.16-py311-none-any.whl (143 kB)\n",
            "Downloading pyarrow-18.0.0-cp311-cp311-macosx_12_0_arm64.whl (29.5 MB)\n",
            "\u001b[2K   \u001b[90m━━━━━━━━━━━━━━━━━━━━━━━━━━━━━━━━━━━━━━━━\u001b[0m \u001b[32m29.5/29.5 MB\u001b[0m \u001b[31m10.2 MB/s\u001b[0m eta \u001b[36m0:00:00\u001b[0ma \u001b[36m0:00:01\u001b[0m\n",
            "\u001b[?25hDownloading xxhash-3.5.0-cp311-cp311-macosx_11_0_arm64.whl (30 kB)\n",
            "Downloading aiohappyeyeballs-2.4.3-py3-none-any.whl (14 kB)\n",
            "Downloading aiosignal-1.3.1-py3-none-any.whl (7.6 kB)\n",
            "Downloading attrs-24.2.0-py3-none-any.whl (63 kB)\n",
            "Downloading frozenlist-1.5.0-cp311-cp311-macosx_11_0_arm64.whl (52 kB)\n",
            "Downloading multidict-6.1.0-cp311-cp311-macosx_11_0_arm64.whl (29 kB)\n",
            "Downloading yarl-1.17.1-cp311-cp311-macosx_11_0_arm64.whl (91 kB)\n",
            "Downloading propcache-0.2.0-cp311-cp311-macosx_11_0_arm64.whl (45 kB)\n",
            "Installing collected packages: xxhash, pyarrow, propcache, multidict, frozenlist, dill, attrs, aiohappyeyeballs, yarl, multiprocess, aiosignal, aiohttp, datasets\n",
            "Successfully installed aiohappyeyeballs-2.4.3 aiohttp-3.10.10 aiosignal-1.3.1 attrs-24.2.0 datasets-3.1.0 dill-0.3.8 frozenlist-1.5.0 multidict-6.1.0 multiprocess-0.70.16 propcache-0.2.0 pyarrow-18.0.0 xxhash-3.5.0 yarl-1.17.1\n"
          ]
        },
        {
          "name": "stderr",
          "output_type": "stream",
          "text": [
            "/opt/anaconda3/envs/idl/lib/python3.11/site-packages/tqdm/auto.py:21: TqdmWarning: IProgress not found. Please update jupyter and ipywidgets. See https://ipywidgets.readthedocs.io/en/stable/user_install.html\n",
            "  from .autonotebook import tqdm as notebook_tqdm\n"
          ]
        }
      ],
      "source": [
        "#This code block has just standard setup code for running in Python\n",
        "\n",
        "# Import PyTorch\n",
        "import torch\n",
        "from torch import nn\n",
        "from torch.utils.data import DataLoader, random_split\n",
        "import numpy as np\n",
        "\n",
        "# Fix the random seed for reproducability\n",
        "torch.random.manual_seed(8942764)\n",
        "torch.cuda.manual_seed(8942764)\n",
        "np.random.seed(8942764)\n",
        "\n",
        "# Please set your device by uncommenting the right version below\n",
        "\n",
        "# On colab or on a machine with access to an Nvidia GPU  use the following setting\n",
        "#device = 'cuda:0'\n",
        "\n",
        "# if you have an Apple Silicon machine with a GPU, use the following setting\n",
        "# this should about 3-4 times faster that running it on a plain CPU\n",
        "device = 'mps'\n",
        "\n",
        "# If you will use a cpu, this is the setting\n",
        "# device='cpu'\n",
        "\n",
        "# note that in handin.py these next two steps would need to be removed\n",
        "# if you are going run this on you personal machine these would need to be done\n",
        "# in the shell/terminal to update your python libraries\n",
        "\n",
        "!pip install transformers\n",
        "!pip install datasets\n",
        "\n",
        "from transformers import AutoTokenizer, BertModel\n",
        "from datasets import load_dataset\n",
        "\n",
        "\n"
      ]
    },
    {
      "cell_type": "code",
      "execution_count": 2,
      "metadata": {
        "id": "duHZ1XZMoYkZ"
      },
      "outputs": [
        {
          "name": "stderr",
          "output_type": "stream",
          "text": [
            "Generating train split: 100%|██████████| 43802/43802 [00:00<00:00, 565720.62 examples/s]\n",
            "Generating validation split: 100%|██████████| 2191/2191 [00:00<00:00, 478382.10 examples/s]\n",
            "Generating test split: 100%|██████████| 8760/8760 [00:00<00:00, 901602.45 examples/s]\n"
          ]
        },
        {
          "data": {
            "text/plain": [
              "DatasetDict({\n",
              "    train: Dataset({\n",
              "        features: ['label', 'text'],\n",
              "        num_rows: 43802\n",
              "    })\n",
              "    validation: Dataset({\n",
              "        features: ['label', 'text'],\n",
              "        num_rows: 2191\n",
              "    })\n",
              "    test: Dataset({\n",
              "        features: ['label', 'text'],\n",
              "        num_rows: 8760\n",
              "    })\n",
              "})"
            ]
          },
          "execution_count": 2,
          "metadata": {},
          "output_type": "execute_result"
        }
      ],
      "source": [
        "# load the data set from the huggingface repositories\n",
        "\n",
        "dataset = load_dataset(\"christinacdl/clickbait_notclickbait_dataset\")\n",
        "dataset\n"
      ]
    },
    {
      "cell_type": "code",
      "execution_count": 3,
      "metadata": {
        "id": "gaqtJZZFmDMf"
      },
      "outputs": [],
      "source": [
        "# initialize pretrained BERT tokenizer\n",
        "tokenizer = AutoTokenizer.from_pretrained(\"bert-base-uncased\")"
      ]
    },
    {
      "cell_type": "code",
      "execution_count": 4,
      "metadata": {
        "id": "-uv_urtjmQH2"
      },
      "outputs": [
        {
          "name": "stdout",
          "output_type": "stream",
          "text": [
            "{'label': 1, 'text': '15 Things You Never Noticed About Owning A Cat'}\n",
            "{'label': 1, 'text': 'It\\'s Been 9 Years Since J.T. Died On \"Degrassi\" And We\\'re Still Not Over It'}\n",
            "{'label': 1, 'text': 'ABC News quiz: How much can you recall?'}\n"
          ]
        }
      ],
      "source": [
        "# if you want you can look at some sample  data items\n",
        "print(dataset[\"train\"][8])\n",
        "print(dataset[\"validation\"][6])\n",
        "print(dataset[\"test\"][0])"
      ]
    },
    {
      "cell_type": "code",
      "execution_count": 5,
      "metadata": {
        "id": "utsg41nOizGz"
      },
      "outputs": [
        {
          "name": "stdout",
          "output_type": "stream",
          "text": [
            "Original:  15 Things You Never Noticed About Owning A Cat\n",
            "Tokenized:  ['15', 'things', 'you', 'never', 'noticed', 'about', 'owning', 'a', 'cat']\n",
            "Token IDs:  [2321, 2477, 2017, 2196, 4384, 2055, 19273, 1037, 4937]\n"
          ]
        }
      ],
      "source": [
        "# This dataset has 3 splits, train, validation and test, and each has a  text  and label.\n",
        "\n",
        "# Data from the dataset can generally be accessed like a Python dict.\n",
        "\n",
        "\n",
        "# Print the original sentence.\n",
        "print('Original: ', dataset['train'][8]['text'])\n",
        "\n",
        "# Print the sentence split into tokens.\n",
        "print('Tokenized: ', tokenizer.tokenize(dataset['train'][8]['text']))\n",
        "\n",
        "# Print the sentence mapped to token ids.\n",
        "print('Token IDs: ', tokenizer.convert_tokens_to_ids(tokenizer.tokenize(dataset['train'][8]['text'])))"
      ]
    },
    {
      "cell_type": "code",
      "execution_count": 6,
      "metadata": {
        "id": "83BUDj7AKmEo"
      },
      "outputs": [],
      "source": [
        "#code for tokenizing training data\n",
        "def tokenize(batch):\n",
        "  '''\n",
        "  Transform the text under the 'sentence' key to\n",
        "    batch has the following structure:\n",
        "    [\n",
        "      {\n",
        "        k1: v1,\n",
        "        k2: v2,\n",
        "        ...\n",
        "      },\n",
        "      ...\n",
        "    ]\n",
        "  '''\n",
        "  sentences = [x['text'] for x in batch]\n",
        "  labels = torch.LongTensor([x['label'] for x in batch])\n",
        "  new_batch = dict(tokenizer(sentences, padding=True, truncation=True, return_tensors=\"pt\"))\n",
        "  new_batch['label'] = labels\n",
        "  return new_batch"
      ]
    },
    {
      "cell_type": "code",
      "execution_count": 7,
      "metadata": {
        "id": "VQcF7uNCZ7qp"
      },
      "outputs": [],
      "source": [
        "# This code evaluates a trained model on a dataset. It also uses  train() to train model\n",
        "# You probably should not be making any changes to this code.\n",
        "# During training, it will be printing some progress messages\n",
        "\n",
        "@torch.no_grad()\n",
        "def evaluate(model, dataset, batch_size, device, collate_fn=None):\n",
        "  model = model.eval().to(device)\n",
        "  dataloader = DataLoader(dataset, batch_size, shuffle=False, collate_fn=collate_fn)\n",
        "  lossfn = nn.NLLLoss()\n",
        "\n",
        "  loss_history = []\n",
        "  acc_history = []\n",
        "  for i, batch in enumerate(dataloader):\n",
        "      batch = {k:v.to(device) for k,v in batch.items() if isinstance(v, torch.Tensor)}\n",
        "      y = batch.pop('label')\n",
        "\n",
        "      logits = model(**batch)\n",
        "      loss = lossfn(logits, y)\n",
        "\n",
        "      pred = logits.argmax(1)\n",
        "      acc = (pred == y).float().mean()\n",
        "      loss_history.append(loss.item())\n",
        "      acc_history.append(acc.item())\n",
        "  return np.mean(loss_history), np.mean(acc_history)\n",
        "\n",
        "def train(model,\n",
        "          train_dataset,\n",
        "          val_dataset,\n",
        "          num_epochs,\n",
        "          batch_size,\n",
        "          optimizer_cls,\n",
        "          lr,\n",
        "          weight_decay,\n",
        "          device,\n",
        "          collate_fn=None):\n",
        "  model = model.train().to(device)\n",
        "  dataloader = DataLoader(train_dataset, batch_size, shuffle=True,\n",
        "                          collate_fn=collate_fn)\n",
        "\n",
        "  if optimizer_cls == 'SGD':\n",
        "    optimizer = torch.optim.SGD(model.parameters(), lr, weight_decay=weight_decay)\n",
        "  elif optimizer_cls == 'Adam':\n",
        "    optimizer = torch.optim.Adam(model.parameters(), lr, weight_decay=weight_decay)\n",
        "\n",
        "  train_loss_history = []\n",
        "  train_acc_history = []\n",
        "  val_loss_history = []\n",
        "  val_acc_history = []\n",
        "\n",
        "  lossfn = nn.NLLLoss()\n",
        "  for e in range(num_epochs):\n",
        "    epoch_loss_history = []\n",
        "    epoch_acc_history = []\n",
        "    for i, batch in enumerate(dataloader):\n",
        "      batch = {k:v.to(device) for k,v in batch.items() if isinstance(v, torch.Tensor)}\n",
        "      y = batch.pop('label')\n",
        "\n",
        "      logits = model(**batch)\n",
        "      loss = lossfn(logits, y)\n",
        "\n",
        "      pred = logits.argmax(1)\n",
        "      acc = (pred == y).float().mean()\n",
        "\n",
        "      epoch_loss_history.append(loss.item())\n",
        "      epoch_acc_history.append(acc.item())\n",
        "\n",
        "      if (i % 100 == 0):\n",
        "        print(f'epoch: {e}\\t iter: {i}\\t train_loss: {np.mean(epoch_loss_history):.3e}\\t train_accuracy:{np.mean(epoch_acc_history):.3f}')\n",
        "      optimizer.zero_grad()\n",
        "      loss.backward()\n",
        "      optimizer.step()\n",
        "    val_loss, val_acc = evaluate(model, val_dataset, batch_size, device, collate_fn=collate_fn)\n",
        "\n",
        "    train_loss_history.append(np.mean(epoch_loss_history))\n",
        "    train_acc_history.append(np.mean(epoch_acc_history))\n",
        "    val_loss_history.append(val_loss.item())\n",
        "    val_acc_history.append(val_acc.item())\n",
        "    print(f'epoch: {e}\\t train_loss: {train_loss_history[-1]:.3e}\\t train_accuracy:{train_acc_history[-1]:.3f}\\t val_loss: {val_loss_history[-1]:.3e}\\t val_accuracy:{val_acc_history[-1]:.3f}')\n",
        "\n",
        "  return model, (train_loss_history, train_acc_history, val_loss_history, val_acc_history)\n"
      ]
    },
    {
      "cell_type": "code",
      "execution_count": 8,
      "metadata": {
        "id": "fb0wjC-zTRz0"
      },
      "outputs": [],
      "source": [
        "# This code defines the test classification class using BERT.\n",
        "# The classifier is defined on top of the final layer of BERT.\n",
        "# The classifier has 1 hidden layer with 128 hidden nodes though we have found that\n",
        "# using a smaller number of hidden nodes does not make much difference,\n",
        "\n",
        "class BertForTextClassification(nn.Module):\n",
        "  def __init__(self, bert_pretrained_config_name, num_classes, freeze_bert=False):\n",
        "    '''\n",
        "    BeRT with a classification MLP\n",
        "    args:\n",
        "    - bert_pretrained_config_name (str): model name from huggingface hub\n",
        "    - num_classes (int): number of classes in the classification task\n",
        "    - freeze_bert (bool): [default False] If true gradients are not computed for\n",
        "                          BeRT's parameters.\n",
        "    '''\n",
        "    super().__init__()\n",
        "    self.bert = BertModel.from_pretrained(bert_pretrained_config_name)\n",
        "    self.bert.requires_grad_(not freeze_bert)\n",
        "    self.classifier = nn.Sequential(\n",
        "        nn.Linear(self.bert.config.hidden_size, 128),\n",
        "        nn.ReLU(),\n",
        "        nn.Linear(128, num_classes),\n",
        "        nn.LogSoftmax(dim=-1)\n",
        "    )\n",
        "\n",
        "\n",
        "  def forward(self, **bert_kwargs):\n",
        "     output=self.bert(**bert_kwargs)\n",
        "     cls_embed = output.pooler_output\n",
        "     logits = self.classifier(cls_embed)\n",
        "     return logits"
      ]
    },
    {
      "cell_type": "code",
      "execution_count": 9,
      "metadata": {
        "id": "w6NVHqYSYds-"
      },
      "outputs": [
        {
          "name": "stdout",
          "output_type": "stream",
          "text": [
            "num_trainable_params=98690\n",
            "\n",
            "epoch: 0\t iter: 0\t train_loss: 7.324e-01\t train_accuracy:0.375\n",
            "epoch: 0\t iter: 100\t train_loss: 5.528e-01\t train_accuracy:0.714\n",
            "epoch: 0\t iter: 200\t train_loss: 4.880e-01\t train_accuracy:0.764\n",
            "epoch: 0\t iter: 300\t train_loss: 4.554e-01\t train_accuracy:0.787\n",
            "epoch: 0\t iter: 400\t train_loss: 4.356e-01\t train_accuracy:0.800\n",
            "epoch: 0\t iter: 500\t train_loss: 4.198e-01\t train_accuracy:0.810\n",
            "epoch: 0\t iter: 600\t train_loss: 4.096e-01\t train_accuracy:0.818\n",
            "epoch: 0\t iter: 700\t train_loss: 3.986e-01\t train_accuracy:0.824\n",
            "epoch: 0\t iter: 800\t train_loss: 3.925e-01\t train_accuracy:0.828\n",
            "epoch: 0\t iter: 900\t train_loss: 3.878e-01\t train_accuracy:0.831\n",
            "epoch: 0\t iter: 1000\t train_loss: 3.838e-01\t train_accuracy:0.834\n",
            "epoch: 0\t iter: 1100\t train_loss: 3.790e-01\t train_accuracy:0.836\n",
            "epoch: 0\t iter: 1200\t train_loss: 3.751e-01\t train_accuracy:0.839\n",
            "epoch: 0\t iter: 1300\t train_loss: 3.716e-01\t train_accuracy:0.841\n",
            "epoch: 0\t train_loss: 3.693e-01\t train_accuracy:0.842\t val_loss: 3.225e-01\t val_accuracy:0.880\n",
            "epoch: 1\t iter: 0\t train_loss: 1.618e-01\t train_accuracy:0.938\n",
            "epoch: 1\t iter: 100\t train_loss: 3.247e-01\t train_accuracy:0.871\n",
            "epoch: 1\t iter: 200\t train_loss: 3.154e-01\t train_accuracy:0.876\n",
            "epoch: 1\t iter: 300\t train_loss: 3.140e-01\t train_accuracy:0.874\n",
            "epoch: 1\t iter: 400\t train_loss: 3.153e-01\t train_accuracy:0.874\n",
            "epoch: 1\t iter: 500\t train_loss: 3.162e-01\t train_accuracy:0.874\n",
            "epoch: 1\t iter: 600\t train_loss: 3.158e-01\t train_accuracy:0.874\n",
            "epoch: 1\t iter: 700\t train_loss: 3.139e-01\t train_accuracy:0.875\n",
            "epoch: 1\t iter: 800\t train_loss: 3.133e-01\t train_accuracy:0.874\n",
            "epoch: 1\t iter: 900\t train_loss: 3.154e-01\t train_accuracy:0.874\n",
            "epoch: 1\t iter: 1000\t train_loss: 3.157e-01\t train_accuracy:0.874\n",
            "epoch: 1\t iter: 1100\t train_loss: 3.143e-01\t train_accuracy:0.875\n",
            "epoch: 1\t iter: 1200\t train_loss: 3.132e-01\t train_accuracy:0.875\n",
            "epoch: 1\t iter: 1300\t train_loss: 3.119e-01\t train_accuracy:0.876\n",
            "epoch: 1\t train_loss: 3.116e-01\t train_accuracy:0.877\t val_loss: 3.248e-01\t val_accuracy:0.874\n",
            "epoch: 2\t iter: 0\t train_loss: 1.145e-01\t train_accuracy:0.969\n",
            "epoch: 2\t iter: 100\t train_loss: 3.241e-01\t train_accuracy:0.879\n",
            "epoch: 2\t iter: 200\t train_loss: 3.111e-01\t train_accuracy:0.881\n",
            "epoch: 2\t iter: 300\t train_loss: 3.098e-01\t train_accuracy:0.878\n",
            "epoch: 2\t iter: 400\t train_loss: 3.069e-01\t train_accuracy:0.880\n",
            "epoch: 2\t iter: 500\t train_loss: 3.068e-01\t train_accuracy:0.879\n"
          ]
        },
        {
          "ename": "KeyboardInterrupt",
          "evalue": "",
          "output_type": "error",
          "traceback": [
            "\u001b[0;31m---------------------------------------------------------------------------\u001b[0m",
            "\u001b[0;31mKeyboardInterrupt\u001b[0m                         Traceback (most recent call last)",
            "Cell \u001b[0;32mIn[9], line 21\u001b[0m\n\u001b[1;32m     17\u001b[0m bert_cls \u001b[38;5;241m=\u001b[39m BertForTextClassification(\u001b[38;5;124m'\u001b[39m\u001b[38;5;124mbert-base-uncased\u001b[39m\u001b[38;5;124m'\u001b[39m, \u001b[38;5;241m2\u001b[39m, freeze_bert\u001b[38;5;241m=\u001b[39m\u001b[38;5;28;01mTrue\u001b[39;00m)\n\u001b[1;32m     19\u001b[0m \u001b[38;5;28mprint\u001b[39m(\u001b[38;5;124mf\u001b[39m\u001b[38;5;124m'\u001b[39m\u001b[38;5;124mnum_trainable_params=\u001b[39m\u001b[38;5;132;01m{\u001b[39;00m\u001b[38;5;28msum\u001b[39m([p\u001b[38;5;241m.\u001b[39mnumel()\u001b[38;5;250m \u001b[39m\u001b[38;5;28;01mfor\u001b[39;00m\u001b[38;5;250m \u001b[39mp\u001b[38;5;250m \u001b[39m\u001b[38;5;129;01min\u001b[39;00m\u001b[38;5;250m \u001b[39mbert_cls\u001b[38;5;241m.\u001b[39mparameters()\u001b[38;5;250m \u001b[39m\u001b[38;5;28;01mif\u001b[39;00m\u001b[38;5;250m \u001b[39mp\u001b[38;5;241m.\u001b[39mrequires_grad])\u001b[38;5;132;01m}\u001b[39;00m\u001b[38;5;130;01m\\n\u001b[39;00m\u001b[38;5;124m'\u001b[39m)\n\u001b[0;32m---> 21\u001b[0m bert_cls, bert_cls_logs \u001b[38;5;241m=\u001b[39m \u001b[43mtrain\u001b[49m\u001b[43m(\u001b[49m\u001b[43mbert_cls\u001b[49m\u001b[43m,\u001b[49m\u001b[43m \u001b[49m\u001b[43mdataset\u001b[49m\u001b[43m[\u001b[49m\u001b[38;5;124;43m'\u001b[39;49m\u001b[38;5;124;43mtrain\u001b[39;49m\u001b[38;5;124;43m'\u001b[39;49m\u001b[43m]\u001b[49m\u001b[43m,\u001b[49m\u001b[43m \u001b[49m\u001b[43mdataset\u001b[49m\u001b[43m[\u001b[49m\u001b[38;5;124;43m'\u001b[39;49m\u001b[38;5;124;43mvalidation\u001b[39;49m\u001b[38;5;124;43m'\u001b[39;49m\u001b[43m]\u001b[49m\u001b[43m,\u001b[49m\n\u001b[1;32m     22\u001b[0m \u001b[43m                                \u001b[49m\u001b[43mnum_epochs\u001b[49m\u001b[38;5;241;43m=\u001b[39;49m\u001b[38;5;241;43m5\u001b[39;49m\u001b[43m,\u001b[49m\u001b[43m \u001b[49m\u001b[43mbatch_size\u001b[49m\u001b[38;5;241;43m=\u001b[39;49m\u001b[38;5;241;43m32\u001b[39;49m\u001b[43m,\u001b[49m\u001b[43m \u001b[49m\u001b[43moptimizer_cls\u001b[49m\u001b[38;5;241;43m=\u001b[39;49m\u001b[38;5;124;43m'\u001b[39;49m\u001b[38;5;124;43mAdam\u001b[39;49m\u001b[38;5;124;43m'\u001b[39;49m\u001b[43m,\u001b[49m\n\u001b[1;32m     23\u001b[0m \u001b[43m                                \u001b[49m\u001b[43mlr\u001b[49m\u001b[38;5;241;43m=\u001b[39;49m\u001b[38;5;241;43m1e-3\u001b[39;49m\u001b[43m,\u001b[49m\u001b[43m \u001b[49m\u001b[43mweight_decay\u001b[49m\u001b[38;5;241;43m=\u001b[39;49m\u001b[38;5;241;43m1e-4\u001b[39;49m\u001b[43m,\u001b[49m\u001b[43m \u001b[49m\u001b[43mdevice\u001b[49m\u001b[38;5;241;43m=\u001b[39;49m\u001b[43mdevice\u001b[49m\u001b[43m,\u001b[49m\n\u001b[1;32m     24\u001b[0m \u001b[43m                                \u001b[49m\u001b[43mcollate_fn\u001b[49m\u001b[38;5;241;43m=\u001b[39;49m\u001b[43mtokenize\u001b[49m\u001b[43m)\u001b[49m\n\u001b[1;32m     26\u001b[0m \u001b[38;5;66;03m# this is where you run the test data (from huggingface) over the trained model and compute test loss and test accuracy\u001b[39;00m\n\u001b[1;32m     27\u001b[0m \u001b[38;5;28mprint\u001b[39m(\u001b[38;5;124m'\u001b[39m\u001b[38;5;130;01m\\n\u001b[39;00m\u001b[38;5;124m'\u001b[39m)\n",
            "Cell \u001b[0;32mIn[7], line 64\u001b[0m, in \u001b[0;36mtrain\u001b[0;34m(model, train_dataset, val_dataset, num_epochs, batch_size, optimizer_cls, lr, weight_decay, device, collate_fn)\u001b[0m\n\u001b[1;32m     61\u001b[0m pred \u001b[38;5;241m=\u001b[39m logits\u001b[38;5;241m.\u001b[39margmax(\u001b[38;5;241m1\u001b[39m)\n\u001b[1;32m     62\u001b[0m acc \u001b[38;5;241m=\u001b[39m (pred \u001b[38;5;241m==\u001b[39m y)\u001b[38;5;241m.\u001b[39mfloat()\u001b[38;5;241m.\u001b[39mmean()\n\u001b[0;32m---> 64\u001b[0m epoch_loss_history\u001b[38;5;241m.\u001b[39mappend(\u001b[43mloss\u001b[49m\u001b[38;5;241;43m.\u001b[39;49m\u001b[43mitem\u001b[49m\u001b[43m(\u001b[49m\u001b[43m)\u001b[49m)\n\u001b[1;32m     65\u001b[0m epoch_acc_history\u001b[38;5;241m.\u001b[39mappend(acc\u001b[38;5;241m.\u001b[39mitem())\n\u001b[1;32m     67\u001b[0m \u001b[38;5;28;01mif\u001b[39;00m (i \u001b[38;5;241m%\u001b[39m \u001b[38;5;241m100\u001b[39m \u001b[38;5;241m==\u001b[39m \u001b[38;5;241m0\u001b[39m):\n",
            "\u001b[0;31mKeyboardInterrupt\u001b[0m: "
          ]
        }
      ],
      "source": [
        "# This is where fine-tuning of the classifier happens.\n",
        "# Here we are training with batch size 32 for 5 epochs.\n",
        "# At the end of each batch you see the training loss and training accuracy.\n",
        "\n",
        "# Using a larger batch-size may cause memory issues with the GPU so we suggest you do not increase it.\n",
        "\n",
        "# At the end of each epoch, you also see validation loss and validation accuracy.\n",
        "# Change the device as described above if you will not be using a GPU\n",
        "\n",
        "# If you run this block multiple times for some reason, uncomment the following lines to set\n",
        "# the random seed for reproducability\n",
        "\n",
        "#torch.random.manual_seed(8942764)\n",
        "#torch.cuda.manual_seed(8942764)\n",
        "#np.random.seed(8942764)\n",
        "\n",
        "bert_cls = BertForTextClassification('bert-base-uncased', 2, freeze_bert=True)\n",
        "\n",
        "print(f'num_trainable_params={sum([p.numel() for p in bert_cls.parameters() if p.requires_grad])}\\n')\n",
        "\n",
        "bert_cls, bert_cls_logs = train(bert_cls, dataset['train'], dataset['validation'],\n",
        "                                num_epochs=5, batch_size=32, optimizer_cls='Adam',\n",
        "                                lr=1e-3, weight_decay=1e-4, device=device,\n",
        "                                collate_fn=tokenize)\n",
        "\n",
        "# this is where you run the test data (from huggingface) over the trained model and compute test loss and test accuracy\n",
        "print('\\n')\n",
        "print('Starting test run')\n",
        "test_loss, test_acc=evaluate(bert_cls,dataset['test'],batch_size=32, device=device, collate_fn=tokenize)\n",
        "print(f'Test Complete.\\t Test Loss: {test_loss:.3e}\\t Test Accuracy: {test_acc:.3f}')\n"
      ]
    }
  ],
  "metadata": {
    "accelerator": "GPU",
    "colab": {
      "gpuType": "V100",
      "provenance": [],
      "toc_visible": true
    },
    "kernelspec": {
      "display_name": "Python 3",
      "name": "python3"
    },
    "language_info": {
      "codemirror_mode": {
        "name": "ipython",
        "version": 3
      },
      "file_extension": ".py",
      "mimetype": "text/x-python",
      "name": "python",
      "nbconvert_exporter": "python",
      "pygments_lexer": "ipython3",
      "version": "3.11.9"
    }
  },
  "nbformat": 4,
  "nbformat_minor": 0
}
